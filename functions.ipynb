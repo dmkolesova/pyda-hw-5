{
 "cells": [
  {
   "cell_type": "markdown",
   "metadata": {},
   "source": [
    "Вы работаете секретарем и вам постоянно приходят различные документы. Вы должны быть очень внимательны, чтобы не потерять ни один документ. Каталог документов хранится в следующем виде:"
   ]
  },
  {
   "cell_type": "code",
   "execution_count": 240,
   "metadata": {},
   "outputs": [],
   "source": [
    "documents = [\n",
    "    {'type': 'passport', 'number': '2207 876234', 'name': 'Василий Гупкин'},\n",
    "    {'type': 'invoice', 'number': '11-2', 'name': 'Геннадий Покемонов'},\n",
    "    {'type': 'insurance', 'number': '10006', 'name': 'Аристарх Павлов'}\n",
    "]"
   ]
  },
  {
   "cell_type": "markdown",
   "metadata": {},
   "source": [
    "Перечень полок, на которых находятся документы хранится в следующем виде:"
   ]
  },
  {
   "cell_type": "code",
   "execution_count": 241,
   "metadata": {},
   "outputs": [],
   "source": [
    "directories = {\n",
    "    '1': ['2207 876234', '11-2'],\n",
    "    '2': ['10006'],\n",
    "    '3': []\n",
    "}"
   ]
  },
  {
   "cell_type": "markdown",
   "metadata": {},
   "source": [
    "Необходимо реализовать пользовательские команды (внимание! это не название функций, которые должны быть выразительными, а команды, которые вводит пользователь, чтобы получить необходимый результат):\n",
    "  \n",
    "- p – people – команда, которая спросит номер документа и выведет имя человека, которому он принадлежит;  \n",
    "- s – shelf – команда, которая спросит номер документа и выведет номер полки, на которой он находится  \n",
    "Правильно обработайте ситуацию, когда пользователь будет вводить несуществующий документ.\n",
    "- l – list – команда, которая выведет список всех документов в формате   \n",
    "**passport \"2207 876234\" \"Василий Гупкин\"**  \n",
    "- as – add shelf – команда, которая спросит номер новой полки и добавит ее в перечень\n",
    "- d – delete – команда, которая спросит номер документа и удалит его из каталога и из перечня полок. Предусмотрите сценарий, когда пользователь вводит несуществующий документ;  \n",
    "- m – move – команда, которая спросит номер документа и целевую полку и переместит его с текущей полки на целевую. Корректно обработайте кейсы, когда пользователь пытается переместить несуществующий документ или переместить документ на несуществующую полку;  \n",
    "- a – add – команда, которая добавит новый документ в каталог и в перечень полок, спросив его номер, тип, имя владельца и номер полки, на котором он будет храниться."
   ]
  },
  {
   "cell_type": "code",
   "execution_count": 234,
   "metadata": {},
   "outputs": [],
   "source": [
    "def main():\n",
    "    print('Добро пожаловать в пульт управления документацией!')\n",
    "    print('Для того, чтобы ознакомиться с полным перечнем команд введите \"help\".')\n",
    "    print('Если вы уже знаете нужную команду, введите код команды.')\n",
    "    user_input = input('Введите команду: ')\n",
    "    while True:\n",
    "        if user_input == 'help':\n",
    "            print('p – people – команда, которая выведет имя человека по номеру документа')\n",
    "            print('s – shelf – команда, которая выведет номер полки по номеру документа')\n",
    "            print('l – list – команда, которая выведет список всех документов')\n",
    "            print('as – add shelf – команда, которая добавит новую полку в перечень полок')\n",
    "            print('d – delete – команда, которая удалит документ из каталога и из перечня полок')\n",
    "            print('m – move – команда, которая переместит документ с текущей полки на целевую')\n",
    "            print('a – add – команда, которая добавит новый документ в каталог и в перечень полок, спросив всю информацию о документе')\n",
    "            print('q - quit - команда для выхода из программы')\n",
    "            user_input = input('Введите команду: ')\n",
    "        elif user_input == 'p':\n",
    "            print('Владелец по номеру документа')\n",
    "            get_owner_name_by_doc(documents)\n",
    "            user_input = input('Введите команду: ')\n",
    "        elif user_input == 's':\n",
    "            print('Номер полки по номеру документа')\n",
    "            get_shelf_by_doc(directories)\n",
    "            user_input = input('Введите команду: ')    \n",
    "        elif user_input == 'l':\n",
    "            print('Список всех документов')\n",
    "            get_list_of_all_docs(documents)\n",
    "            user_input = input('Введите команду: ')\n",
    "        elif user_input == 'as':\n",
    "            print('Добавляем новую полку')\n",
    "            add_shelf_to_directories(directories)\n",
    "            user_input = input('Введите команду: ')   \n",
    "        elif user_input == 'd':\n",
    "            print('Удаляем документы')\n",
    "            delete_doc_from_docs_and_dir(documents, directories)\n",
    "            user_input = input('Введите команду: ')\n",
    "        elif user_input == 'm':\n",
    "            print('Перемещаем документы')\n",
    "            move_doc(directories)\n",
    "            user_input = input('Введите команду: ')\n",
    "        elif user_input == 'a':\n",
    "            print('Добавляем документы')\n",
    "            add_doc_with_full_info(documents, directories)\n",
    "            user_input = input('Введите команду: ')\n",
    "        elif user_input == 'q':\n",
    "            print('Спасибо за отличную работу! До скорого.')\n",
    "            break\n",
    "        else:\n",
    "            print('Вы ввели некорректную команду - я обиделся.')\n",
    "            break"
   ]
  },
  {
   "cell_type": "code",
   "execution_count": 235,
   "metadata": {},
   "outputs": [
    {
     "name": "stdout",
     "output_type": "stream",
     "text": [
      "Добро пожаловать в пульт управления документацией!\n",
      "Для того, чтобы ознакомиться с полным перечнем команд введите \"help\".\n",
      "Если вы уже знаете нужную команду, введите код команды.\n",
      "Введите команду: a\n",
      "Добавляем документы\n",
      "Введите номер документа: 1234\n",
      "Введите номер полки: 3\n",
      "Введите тип документа: passport\n",
      "Введите имя владельца документа: DK\n",
      "Документ 1234 добавлен на полку 3.\n",
      "Документ 1234 добавлен в документы.\n",
      "Введите команду: p\n",
      "Владелец по номеру документа\n",
      "Введите номер документа: 1234\n",
      "Владелец документа: DK\n",
      "Введите команду: s\n",
      "Номер полки по номеру документа\n",
      "Введите номер документа: 1234\n",
      "Номер полки: 3\n",
      "Введите команду: l\n",
      "Список всех документов\n",
      " passport \"2207 876234\" \"Василий Гупкин\"\n",
      " invoice \"11-2\" \"Геннадий Покемонов\"\n",
      " insurance \"10006\" \"Аристарх Павлов\"\n",
      " passport \"1234\" \"DK\"\n",
      "Введите команду: as\n",
      "Добавляем новую полку\n",
      "Введите номер новой полки: 5\n",
      "Полка 5 добавлена.\n",
      "Введите команду: d\n",
      "Удаляем документы\n",
      "Введите номер документа: 11-2\n",
      "Документ 11-2 удален из полок.\n",
      "Документ 11-2 удален из документов.\n",
      "Введите команду: m\n",
      "Перемещаем документы\n",
      "Введите номер документа: 1234\n",
      "Введите номер целевой полки: 5\n",
      "Документ 1234 перенесен с полки 3 на полку 5.\n",
      "Введите команду: q\n",
      "Спасибо за отличную работу! До скорого.\n"
     ]
    }
   ],
   "source": [
    "main()"
   ]
  },
  {
   "cell_type": "code",
   "execution_count": 236,
   "metadata": {},
   "outputs": [
    {
     "data": {
      "text/plain": [
       "{'1': ['2207 876234'], '2': ['10006'], '3': [], '5': ['1234']}"
      ]
     },
     "execution_count": 236,
     "metadata": {},
     "output_type": "execute_result"
    }
   ],
   "source": [
    "directories"
   ]
  },
  {
   "cell_type": "code",
   "execution_count": 237,
   "metadata": {},
   "outputs": [
    {
     "data": {
      "text/plain": [
       "[{'type': 'passport', 'number': '2207 876234', 'name': 'Василий Гупкин'},\n",
       " {'type': 'insurance', 'number': '10006', 'name': 'Аристарх Павлов'},\n",
       " {'type': 'passport', 'number': '1234', 'name': 'DK'}]"
      ]
     },
     "execution_count": 237,
     "metadata": {},
     "output_type": "execute_result"
    }
   ],
   "source": [
    "documents"
   ]
  },
  {
   "cell_type": "code",
   "execution_count": 9,
   "metadata": {},
   "outputs": [],
   "source": [
    "def get_owner_name_by_doc(documents):\n",
    "    \"\"\" p – people – команда, которая спросит номер документа и выведет имя человека, которому он принадлежит; \"\"\"\n",
    "    user_input = input('Введите номер документа: ')\n",
    "    exist_check = 0\n",
    "    for doc in documents:\n",
    "        if doc['number'] == user_input:\n",
    "            print(f'Владелец документа: {doc[\"name\"]}')\n",
    "            exist_check += 1\n",
    "            break\n",
    "    if exist_check == 0:\n",
    "        print(f'Документ {user_input} не найден. ')"
   ]
  },
  {
   "cell_type": "code",
   "execution_count": 52,
   "metadata": {},
   "outputs": [],
   "source": [
    "def get_shelf_by_doc(directories):\n",
    "    \"\"\" s – shelf – команда, которая спросит номер документа и выведет номер полки, на которой он находится \"\"\"\n",
    "    user_input = input('Введите номер документа: ')\n",
    "    exist_check = 0\n",
    "    for key, item in directories.items():\n",
    "        if user_input in item:\n",
    "            print(f'Номер полки: {key}')\n",
    "            exist_check += 1\n",
    "            break\n",
    "    if exist_check == 0:\n",
    "        print(f'Документ {user_input} не найден. ')"
   ]
  },
  {
   "cell_type": "code",
   "execution_count": 34,
   "metadata": {},
   "outputs": [],
   "source": [
    "def get_list_of_all_docs(documents):\n",
    "    \"\"\" l – list – команда, которая выведет список всех документов в формате passport \"2207 876234\" \"Василий Гупкин\" \"\"\"\n",
    "    for doc in documents:\n",
    "        print(f' {doc[\"type\"]} \"{doc[\"number\"]}\" \"{doc[\"name\"]}\"')"
   ]
  },
  {
   "cell_type": "code",
   "execution_count": 60,
   "metadata": {},
   "outputs": [],
   "source": [
    "def add_shelf_to_directories(directories):\n",
    "    \"\"\" as – add shelf – команда, которая спросит номер новой полки и добавит ее в перечень \"\"\"\n",
    "    user_input = input('Введите номер новой полки: ')\n",
    "    if directories.get(user_input) == None:\n",
    "        directories[user_input] = []\n",
    "        print(f'Полка {user_input} добавлена.')\n",
    "    else:\n",
    "        print(f'Полка {user_input} уже существует.')"
   ]
  },
  {
   "cell_type": "code",
   "execution_count": 110,
   "metadata": {},
   "outputs": [],
   "source": [
    "def delete_doc_from_docs_and_dir(documents, directories):\n",
    "    \"\"\" d – delete – команда, которая спросит номер документа и удалит его из каталога и из перечня полок. \n",
    "    Предусмотрите сценарий, когда пользователь вводит несуществующий документ \"\"\"\n",
    "    \n",
    "    user_input = input('Введите номер документа: ')\n",
    "    exist_check_dir = 0\n",
    "    exist_check_doc = 0\n",
    "    for value in directories.values():\n",
    "        if user_input in value:\n",
    "            value.remove(user_input)\n",
    "            print(f'Документ {user_input} удален из полок.')\n",
    "            exist_check_dir += 1\n",
    "            \n",
    "    for doc in documents:\n",
    "        if doc['number'] == user_input:\n",
    "            documents.remove(doc)\n",
    "            print(f'Документ {user_input} удален из документов.')\n",
    "            exist_check_doc += 1\n",
    "#             break\n",
    "    if exist_check_dir == 0:\n",
    "        print(f'Документ {user_input} не найден в полках. ')\n",
    "    if exist_check_doc == 0:\n",
    "        print(f'Документ {user_input} не найден в документах. ')\n",
    "    "
   ]
  },
  {
   "cell_type": "code",
   "execution_count": 153,
   "metadata": {},
   "outputs": [],
   "source": [
    "def move_doc(directories):\n",
    "    \"\"\" m – move – команда, которая спросит номер документа и целевую полку и переместит его с текущей полки на целевую. \n",
    "    Корректно обработайте кейсы, когда пользователь пытается переместить несуществующий документ \n",
    "    или переместить документ на несуществующую полку; \"\"\"\n",
    "    \n",
    "    user_input_doc = input('Введите номер документа: ')\n",
    "    user_input_target_shelf = input('Введите номер целевой полки: ')\n",
    "    exist_check_dir = 0\n",
    "    \n",
    "    if user_input_target_shelf not in directories.keys():\n",
    "            print(f'Полка {user_input_target_shelf} не найдена. ')\n",
    "    else:    \n",
    "        for key, value in directories.items():\n",
    "            if user_input_doc in value and key == user_input_target_shelf:\n",
    "                print(f'Документ {user_input_doc} уже на полке {user_input_target_shelf}.')\n",
    "                exist_check_dir += 1\n",
    "                break\n",
    "            if user_input_doc in value:\n",
    "                directories[user_input_target_shelf].append(user_input_doc)\n",
    "                print(f'Документ {user_input_doc} перенесен с полки {key} на полку {user_input_target_shelf}.')\n",
    "                value.remove(user_input_doc)\n",
    "                exist_check_dir += 1\n",
    "                break\n",
    "        if exist_check_dir == 0:\n",
    "            print(f'Документ {user_input_doc} не найден в полках. ')  "
   ]
  },
  {
   "cell_type": "code",
   "execution_count": 228,
   "metadata": {},
   "outputs": [],
   "source": [
    "def add_doc_with_full_info(documents, directories):\n",
    "    \n",
    "    \"\"\" a – add – команда, которая добавит новый документ в каталог и в перечень полок,\n",
    "    спросив его номер, тип, имя владельца и номер полки, на котором он будет храниться. \"\"\"\n",
    "    \n",
    "    user_input_doc = input('Введите номер документа: ')\n",
    "    user_input_shelf = input('Введите номер полки: ')\n",
    "    \n",
    "    if user_input_shelf not in directories.keys():\n",
    "        return print(f'Полка {user_input_shelf} не найдена. ')\n",
    "    \n",
    "    exist_check_dir = 0\n",
    "    exist_check_doc = 0    \n",
    "            \n",
    "    for value in directories.values():\n",
    "        if user_input_doc in value:\n",
    "            exist_check_dir += 1           \n",
    "    for doc in documents:\n",
    "        if doc['number'] == user_input_doc:\n",
    "            exist_check_doc += 1          \n",
    "    \n",
    "    if exist_check_dir > 0 or exist_check_doc > 0:\n",
    "        print(f'Документ {user_input_doc} уже существует. ')\n",
    "    else:\n",
    "        user_input_doc_type = input('Введите тип документа: ')\n",
    "        user_input_doc_name = input('Введите имя владельца документа: ')\n",
    "        directories[user_input_shelf].append(user_input_doc)\n",
    "        print(f'Документ {user_input_doc} добавлен на полку {user_input_shelf}.')\n",
    "        documents.append({'type': user_input_doc_type, 'number': user_input_doc, 'name': user_input_doc_name})\n",
    "        print(f'Документ {user_input_doc} добавлен в документы.')\n",
    "    \n",
    "    "
   ]
  }
 ],
 "metadata": {
  "kernelspec": {
   "display_name": "Python 3",
   "language": "python",
   "name": "python3"
  },
  "language_info": {
   "codemirror_mode": {
    "name": "ipython",
    "version": 3
   },
   "file_extension": ".py",
   "mimetype": "text/x-python",
   "name": "python",
   "nbconvert_exporter": "python",
   "pygments_lexer": "ipython3",
   "version": "3.7.4"
  }
 },
 "nbformat": 4,
 "nbformat_minor": 2
}
